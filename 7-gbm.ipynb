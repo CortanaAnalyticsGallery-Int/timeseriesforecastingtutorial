{
 "cells": [
  {
   "cell_type": "markdown",
   "metadata": {},
   "source": [
    "# Gradient boosting machine"
   ]
  },
  {
   "cell_type": "code",
   "execution_count": 1,
   "metadata": {
    "collapsed": true
   },
   "outputs": [],
   "source": [
    "%matplotlib inline\n",
    "import pandas as pd\n",
    "import numpy as np\n",
    "import matplotlib.pyplot as plt\n",
    "from sklearn.pipeline import Pipeline\n",
    "from sklearn.ensemble import GradientBoostingRegressor\n",
    "from sklearn.metrics import mean_squared_error\n",
    "from sklearn.model_selection import TimeSeriesSplit\n",
    "from sklearn.model_selection import RandomizedSearchCV\n",
    "import pickle\n",
    "import os\n",
    "import scipy.stats as st"
   ]
  },
  {
   "cell_type": "code",
   "execution_count": 2,
   "metadata": {
    "collapsed": true
   },
   "outputs": [],
   "source": [
    "model_name = \"gbm\"\n",
    "aml_dir = os.environ['AZUREML_NATIVE_SHARE_DIRECTORY']\n",
    "train = pd.read_csv(aml_dir + 'nyc_demand_train.csv', parse_dates=['timeStamp'])"
   ]
  },
  {
   "cell_type": "markdown",
   "metadata": {},
   "source": [
    "Create model pipeline including:\n",
    "- use randomised search to find optimal hyperparameters\n",
    "- train best model on all training data"
   ]
  },
  {
   "cell_type": "code",
   "execution_count": 3,
   "metadata": {
    "collapsed": true
   },
   "outputs": [],
   "source": [
    "X = train.drop(['demand', 'timeStamp'], axis=1)"
   ]
  },
  {
   "cell_type": "code",
   "execution_count": 4,
   "metadata": {
    "collapsed": true
   },
   "outputs": [],
   "source": [
    "regr = GradientBoostingRegressor()\n",
    "tscv = TimeSeriesSplit(n_splits=3)"
   ]
  },
  {
   "cell_type": "code",
   "execution_count": 5,
   "metadata": {},
   "outputs": [
    {
     "name": "stdout",
     "output_type": "stream",
     "text": [
      "Fitting 3 folds for each of 50 candidates, totalling 150 fits\n"
     ]
    },
    {
     "name": "stderr",
     "output_type": "stream",
     "text": [
      "[Parallel(n_jobs=-1)]: Done  33 tasks      | elapsed:  2.5min\n",
      "[Parallel(n_jobs=-1)]: Done 150 out of 150 | elapsed:  8.7min finished\n"
     ]
    },
    {
     "data": {
      "text/plain": [
       "Pipeline(memory=None,\n",
       "     steps=[('regr_cv', RandomizedSearchCV(cv=TimeSeriesSplit(max_train_size=None, n_splits=3),\n",
       "          error_score='raise',\n",
       "          estimator=GradientBoostingRegressor(alpha=0.9, criterion='friedman_mse', init=None,\n",
       "             learning_rate=0.1, loss='ls', max_depth=3, max_features=None,\n",
       "         ...it=True,\n",
       "          return_train_score=True, scoring='neg_mean_squared_error',\n",
       "          verbose=2))])"
      ]
     },
     "execution_count": 5,
     "metadata": {},
     "output_type": "execute_result"
    }
   ],
   "source": [
    "param_dist = {'n_estimators': st.randint(3, 100),\n",
    "                'learning_rate': st.uniform(0.01, 0.1),\n",
    "                'max_depth': range(2,31),\n",
    "                'min_samples_leaf': st.randint(1, 100),\n",
    "                'min_samples_split': st.randint(2, 50),\n",
    "                'max_features': range(3,X.shape[1]+1),\n",
    "                'subsample': st.uniform(0.1, 0.9)\n",
    "             }\n",
    "regr_cv = RandomizedSearchCV(estimator=regr,\n",
    "            param_distributions=param_dist,\n",
    "            n_iter=50,\n",
    "            cv=tscv,\n",
    "            scoring='neg_mean_squared_error',\n",
    "            verbose=2,\n",
    "            n_jobs=-1)\n",
    "regr_pipe = Pipeline([('regr_cv', regr_cv)])\n",
    "regr_pipe.fit(X, y=train['demand'])"
   ]
  },
  {
   "cell_type": "markdown",
   "metadata": {},
   "source": [
    "Save model to AML shared directory"
   ]
  },
  {
   "cell_type": "code",
   "execution_count": 6,
   "metadata": {
    "collapsed": true
   },
   "outputs": [],
   "source": [
    "with open(aml_dir + model_name + '.pkl', 'wb') as f:\n",
    "    pickle.dump(regr_pipe, f)"
   ]
  },
  {
   "cell_type": "markdown",
   "metadata": {},
   "source": [
    "### Cross validation results"
   ]
  },
  {
   "cell_type": "code",
   "execution_count": 7,
   "metadata": {},
   "outputs": [
    {
     "data": {
      "text/html": [
       "<div>\n",
       "<style>\n",
       "    .dataframe thead tr:only-child th {\n",
       "        text-align: right;\n",
       "    }\n",
       "\n",
       "    .dataframe thead th {\n",
       "        text-align: left;\n",
       "    }\n",
       "\n",
       "    .dataframe tbody tr th {\n",
       "        vertical-align: top;\n",
       "    }\n",
       "</style>\n",
       "<table border=\"1\" class=\"dataframe\">\n",
       "  <thead>\n",
       "    <tr style=\"text-align: right;\">\n",
       "      <th></th>\n",
       "      <th>mean_fit_time</th>\n",
       "      <th>mean_score_time</th>\n",
       "      <th>mean_test_score</th>\n",
       "      <th>mean_train_score</th>\n",
       "      <th>param_learning_rate</th>\n",
       "      <th>param_max_depth</th>\n",
       "      <th>param_max_features</th>\n",
       "      <th>param_min_samples_leaf</th>\n",
       "      <th>param_min_samples_split</th>\n",
       "      <th>param_n_estimators</th>\n",
       "      <th>...</th>\n",
       "      <th>split0_test_score</th>\n",
       "      <th>split0_train_score</th>\n",
       "      <th>split1_test_score</th>\n",
       "      <th>split1_train_score</th>\n",
       "      <th>split2_test_score</th>\n",
       "      <th>split2_train_score</th>\n",
       "      <th>std_fit_time</th>\n",
       "      <th>std_score_time</th>\n",
       "      <th>std_test_score</th>\n",
       "      <th>std_train_score</th>\n",
       "    </tr>\n",
       "  </thead>\n",
       "  <tbody>\n",
       "    <tr>\n",
       "      <th>3</th>\n",
       "      <td>52.919514</td>\n",
       "      <td>0.121167</td>\n",
       "      <td>-3092.713388</td>\n",
       "      <td>-537.026169</td>\n",
       "      <td>0.100833</td>\n",
       "      <td>29</td>\n",
       "      <td>16</td>\n",
       "      <td>15</td>\n",
       "      <td>3</td>\n",
       "      <td>54</td>\n",
       "      <td>...</td>\n",
       "      <td>-4493.635259</td>\n",
       "      <td>-690.137933</td>\n",
       "      <td>-2365.938963</td>\n",
       "      <td>-503.145237</td>\n",
       "      <td>-2418.565942</td>\n",
       "      <td>-417.795337</td>\n",
       "      <td>40.145416</td>\n",
       "      <td>0.022169</td>\n",
       "      <td>990.834317</td>\n",
       "      <td>113.735250</td>\n",
       "    </tr>\n",
       "    <tr>\n",
       "      <th>9</th>\n",
       "      <td>33.897009</td>\n",
       "      <td>0.134835</td>\n",
       "      <td>-3149.966303</td>\n",
       "      <td>-668.323934</td>\n",
       "      <td>0.107246</td>\n",
       "      <td>13</td>\n",
       "      <td>12</td>\n",
       "      <td>20</td>\n",
       "      <td>28</td>\n",
       "      <td>88</td>\n",
       "      <td>...</td>\n",
       "      <td>-4527.739103</td>\n",
       "      <td>-790.583881</td>\n",
       "      <td>-2499.033277</td>\n",
       "      <td>-649.614421</td>\n",
       "      <td>-2423.126530</td>\n",
       "      <td>-564.773501</td>\n",
       "      <td>18.379932</td>\n",
       "      <td>0.022407</td>\n",
       "      <td>974.725217</td>\n",
       "      <td>93.131149</td>\n",
       "    </tr>\n",
       "    <tr>\n",
       "      <th>11</th>\n",
       "      <td>110.824195</td>\n",
       "      <td>0.186500</td>\n",
       "      <td>-3479.907006</td>\n",
       "      <td>-279.774457</td>\n",
       "      <td>0.0665966</td>\n",
       "      <td>16</td>\n",
       "      <td>14</td>\n",
       "      <td>5</td>\n",
       "      <td>15</td>\n",
       "      <td>66</td>\n",
       "      <td>...</td>\n",
       "      <td>-4884.156237</td>\n",
       "      <td>-307.045679</td>\n",
       "      <td>-2748.994289</td>\n",
       "      <td>-276.042264</td>\n",
       "      <td>-2806.570494</td>\n",
       "      <td>-256.235429</td>\n",
       "      <td>78.530240</td>\n",
       "      <td>0.015346</td>\n",
       "      <td>993.232326</td>\n",
       "      <td>20.910401</td>\n",
       "    </tr>\n",
       "    <tr>\n",
       "      <th>35</th>\n",
       "      <td>10.833670</td>\n",
       "      <td>0.075667</td>\n",
       "      <td>-4350.174840</td>\n",
       "      <td>-1792.096751</td>\n",
       "      <td>0.0927124</td>\n",
       "      <td>7</td>\n",
       "      <td>7</td>\n",
       "      <td>9</td>\n",
       "      <td>6</td>\n",
       "      <td>98</td>\n",
       "      <td>...</td>\n",
       "      <td>-5798.827948</td>\n",
       "      <td>-1520.454164</td>\n",
       "      <td>-3750.812713</td>\n",
       "      <td>-1903.083424</td>\n",
       "      <td>-3500.883859</td>\n",
       "      <td>-1952.752667</td>\n",
       "      <td>5.006992</td>\n",
       "      <td>0.015547</td>\n",
       "      <td>1029.421513</td>\n",
       "      <td>193.147664</td>\n",
       "    </tr>\n",
       "    <tr>\n",
       "      <th>40</th>\n",
       "      <td>21.595172</td>\n",
       "      <td>0.085834</td>\n",
       "      <td>-4520.704301</td>\n",
       "      <td>-3195.010351</td>\n",
       "      <td>0.0907159</td>\n",
       "      <td>11</td>\n",
       "      <td>16</td>\n",
       "      <td>79</td>\n",
       "      <td>33</td>\n",
       "      <td>83</td>\n",
       "      <td>...</td>\n",
       "      <td>-7575.178363</td>\n",
       "      <td>-4336.882875</td>\n",
       "      <td>-3149.479692</td>\n",
       "      <td>-2955.237899</td>\n",
       "      <td>-2837.454850</td>\n",
       "      <td>-2292.910277</td>\n",
       "      <td>12.142449</td>\n",
       "      <td>0.022396</td>\n",
       "      <td>2163.592494</td>\n",
       "      <td>851.498333</td>\n",
       "    </tr>\n",
       "  </tbody>\n",
       "</table>\n",
       "<p>5 rows × 23 columns</p>\n",
       "</div>"
      ],
      "text/plain": [
       "    mean_fit_time  mean_score_time  mean_test_score  mean_train_score  \\\n",
       "3       52.919514         0.121167     -3092.713388       -537.026169   \n",
       "9       33.897009         0.134835     -3149.966303       -668.323934   \n",
       "11     110.824195         0.186500     -3479.907006       -279.774457   \n",
       "35      10.833670         0.075667     -4350.174840      -1792.096751   \n",
       "40      21.595172         0.085834     -4520.704301      -3195.010351   \n",
       "\n",
       "   param_learning_rate param_max_depth param_max_features  \\\n",
       "3             0.100833              29                 16   \n",
       "9             0.107246              13                 12   \n",
       "11           0.0665966              16                 14   \n",
       "35           0.0927124               7                  7   \n",
       "40           0.0907159              11                 16   \n",
       "\n",
       "   param_min_samples_leaf param_min_samples_split param_n_estimators  \\\n",
       "3                      15                       3                 54   \n",
       "9                      20                      28                 88   \n",
       "11                      5                      15                 66   \n",
       "35                      9                       6                 98   \n",
       "40                     79                      33                 83   \n",
       "\n",
       "         ...        split0_test_score split0_train_score  split1_test_score  \\\n",
       "3        ...             -4493.635259        -690.137933       -2365.938963   \n",
       "9        ...             -4527.739103        -790.583881       -2499.033277   \n",
       "11       ...             -4884.156237        -307.045679       -2748.994289   \n",
       "35       ...             -5798.827948       -1520.454164       -3750.812713   \n",
       "40       ...             -7575.178363       -4336.882875       -3149.479692   \n",
       "\n",
       "    split1_train_score  split2_test_score  split2_train_score  std_fit_time  \\\n",
       "3          -503.145237       -2418.565942         -417.795337     40.145416   \n",
       "9          -649.614421       -2423.126530         -564.773501     18.379932   \n",
       "11         -276.042264       -2806.570494         -256.235429     78.530240   \n",
       "35        -1903.083424       -3500.883859        -1952.752667      5.006992   \n",
       "40        -2955.237899       -2837.454850        -2292.910277     12.142449   \n",
       "\n",
       "    std_score_time  std_test_score  std_train_score  \n",
       "3         0.022169      990.834317       113.735250  \n",
       "9         0.022407      974.725217        93.131149  \n",
       "11        0.015346      993.232326        20.910401  \n",
       "35        0.015547     1029.421513       193.147664  \n",
       "40        0.022396     2163.592494       851.498333  \n",
       "\n",
       "[5 rows x 23 columns]"
      ]
     },
     "execution_count": 7,
     "metadata": {},
     "output_type": "execute_result"
    }
   ],
   "source": [
    "cv_results = pd.DataFrame(regr_pipe.named_steps['regr_cv'].cv_results_)\n",
    "cv_results.sort_values(by='rank_test_score', inplace=True)\n",
    "cv_results.head()"
   ]
  }
 ],
 "metadata": {
  "kernelspec": {
   "display_name": "TimeSeriesForecastingTutorial local",
   "language": "python",
   "name": "timeseriesforecastingtutorial_local"
  },
  "language_info": {
   "codemirror_mode": {
    "name": "ipython",
    "version": 3
   },
   "file_extension": ".py",
   "mimetype": "text/x-python",
   "name": "python",
   "nbconvert_exporter": "python",
   "pygments_lexer": "ipython3",
   "version": "3.5.2"
  }
 },
 "nbformat": 4,
 "nbformat_minor": 2
}
