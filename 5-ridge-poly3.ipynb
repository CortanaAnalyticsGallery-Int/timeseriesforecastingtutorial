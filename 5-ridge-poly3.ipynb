{
 "cells": [
  {
   "cell_type": "markdown",
   "metadata": {},
   "source": [
    "# Ridge regression with polynomial features of degree 3"
   ]
  },
  {
   "cell_type": "code",
   "execution_count": 1,
   "metadata": {
    "collapsed": true
   },
   "outputs": [],
   "source": [
    "%matplotlib inline\n",
    "import pandas as pd\n",
    "import numpy as np\n",
    "import matplotlib.pyplot as plt\n",
    "from sklearn.pipeline import Pipeline\n",
    "from sklearn.preprocessing import OneHotEncoder\n",
    "from sklearn.linear_model import Ridge\n",
    "from sklearn.metrics import mean_squared_error\n",
    "from sklearn.model_selection import TimeSeriesSplit\n",
    "from sklearn.model_selection import GridSearchCV\n",
    "from sklearn.preprocessing import PolynomialFeatures\n",
    "import pickle\n",
    "import os"
   ]
  },
  {
   "cell_type": "code",
   "execution_count": 2,
   "metadata": {
    "collapsed": true
   },
   "outputs": [],
   "source": [
    "model_name = \"ridge_poly3\"\n",
    "aml_dir = os.environ['AZUREML_NATIVE_SHARE_DIRECTORY']\n",
    "train = pd.read_csv(aml_dir + 'nyc_demand_train.csv', parse_dates=['timeStamp'])"
   ]
  },
  {
   "cell_type": "markdown",
   "metadata": {},
   "source": [
    "Create model pipeline:\n",
    "- create polynomial features of degree 3. This means that for each pair of features $(x_1, x_2)$, the output features are $(x_1,  x_1^2,  x_1^3,  x_2,  x_2^2,  x_2^3,  x_1x_2^2,  x_1^2x_2)$. Note: numerical categorical features are not one-hot encoded because this would increase the dimensions of the input prohibitively.\n",
    "- use grid search to find optimal values for the alpha parameter "
   ]
  },
  {
   "cell_type": "code",
   "execution_count": 3,
   "metadata": {
    "collapsed": true
   },
   "outputs": [],
   "source": [
    "X = train.drop(['demand', 'timeStamp'], axis=1)"
   ]
  },
  {
   "cell_type": "code",
   "execution_count": 4,
   "metadata": {
    "collapsed": true
   },
   "outputs": [],
   "source": [
    "regr = Ridge(fit_intercept=False, normalize=True)\n",
    "poly = PolynomialFeatures(3)\n",
    "tscv = TimeSeriesSplit(n_splits=3)"
   ]
  },
  {
   "cell_type": "code",
   "execution_count": 5,
   "metadata": {},
   "outputs": [
    {
     "name": "stdout",
     "output_type": "stream",
     "text": [
      "Fitting 3 folds for each of 5 candidates, totalling 15 fits\n"
     ]
    },
    {
     "name": "stderr",
     "output_type": "stream",
     "text": [
      "[Parallel(n_jobs=-1)]: Done  15 out of  15 | elapsed:   29.8s finished\n"
     ]
    },
    {
     "data": {
      "text/plain": [
       "Pipeline(memory=None,\n",
       "     steps=[('poly', PolynomialFeatures(degree=3, include_bias=True, interaction_only=False)), ('regr_cv', GridSearchCV(cv=None, error_score='raise',\n",
       "       estimator=Ridge(alpha=1.0, copy_X=True, fit_intercept=False, max_iter=None,\n",
       "   normalize=True, random_state=None, solver='auto', tol=0.001),\n",
       "       ...*n_jobs', refit=True, return_train_score=True,\n",
       "       scoring='neg_mean_squared_error', verbose=2))])"
      ]
     },
     "execution_count": 5,
     "metadata": {},
     "output_type": "execute_result"
    }
   ],
   "source": [
    "param_grid = {'alpha': [ 1e-4, 1e-3, 1e-2, 0.1, 1.0]}\n",
    "regr_cv = GridSearchCV(estimator=regr,\n",
    "                            param_grid=param_grid,\n",
    "                            scoring='neg_mean_squared_error',\n",
    "                            iid=False,\n",
    "                            verbose=2,\n",
    "                            n_jobs=-1)\n",
    "regr_pipe = Pipeline([('poly', poly), ('regr_cv', regr_cv)])\n",
    "regr_pipe.fit(X, y=train['demand'])"
   ]
  },
  {
   "cell_type": "markdown",
   "metadata": {},
   "source": [
    "Save model to AML shared directory"
   ]
  },
  {
   "cell_type": "code",
   "execution_count": 7,
   "metadata": {
    "collapsed": true
   },
   "outputs": [],
   "source": [
    "with open(aml_dir + model_name + '.pkl', 'wb') as f:\n",
    "    pickle.dump(regr_pipe, f)"
   ]
  },
  {
   "cell_type": "markdown",
   "metadata": {},
   "source": [
    "### Cross validation results"
   ]
  },
  {
   "cell_type": "code",
   "execution_count": 8,
   "metadata": {},
   "outputs": [
    {
     "data": {
      "text/html": [
       "<div>\n",
       "<style>\n",
       "    .dataframe thead tr:only-child th {\n",
       "        text-align: right;\n",
       "    }\n",
       "\n",
       "    .dataframe thead th {\n",
       "        text-align: left;\n",
       "    }\n",
       "\n",
       "    .dataframe tbody tr th {\n",
       "        vertical-align: top;\n",
       "    }\n",
       "</style>\n",
       "<table border=\"1\" class=\"dataframe\">\n",
       "  <thead>\n",
       "    <tr style=\"text-align: right;\">\n",
       "      <th></th>\n",
       "      <th>mean_fit_time</th>\n",
       "      <th>mean_score_time</th>\n",
       "      <th>mean_test_score</th>\n",
       "      <th>mean_train_score</th>\n",
       "      <th>param_alpha</th>\n",
       "      <th>params</th>\n",
       "      <th>rank_test_score</th>\n",
       "      <th>split0_test_score</th>\n",
       "      <th>split0_train_score</th>\n",
       "      <th>split1_test_score</th>\n",
       "      <th>split1_train_score</th>\n",
       "      <th>split2_test_score</th>\n",
       "      <th>split2_train_score</th>\n",
       "      <th>std_fit_time</th>\n",
       "      <th>std_score_time</th>\n",
       "      <th>std_test_score</th>\n",
       "      <th>std_train_score</th>\n",
       "    </tr>\n",
       "  </thead>\n",
       "  <tbody>\n",
       "    <tr>\n",
       "      <th>4</th>\n",
       "      <td>3.496018</td>\n",
       "      <td>0.045509</td>\n",
       "      <td>-2335.383383</td>\n",
       "      <td>-1716.224334</td>\n",
       "      <td>1</td>\n",
       "      <td>{'alpha': 1.0}</td>\n",
       "      <td>1</td>\n",
       "      <td>-2757.385827</td>\n",
       "      <td>-1655.054086</td>\n",
       "      <td>-2173.792776</td>\n",
       "      <td>-1708.902496</td>\n",
       "      <td>-2074.971545</td>\n",
       "      <td>-1784.716422</td>\n",
       "      <td>0.961480</td>\n",
       "      <td>0.007075</td>\n",
       "      <td>301.115655</td>\n",
       "      <td>53.187012</td>\n",
       "    </tr>\n",
       "    <tr>\n",
       "      <th>3</th>\n",
       "      <td>5.211334</td>\n",
       "      <td>0.049334</td>\n",
       "      <td>-2344.101723</td>\n",
       "      <td>-1715.094443</td>\n",
       "      <td>0.1</td>\n",
       "      <td>{'alpha': 0.1}</td>\n",
       "      <td>2</td>\n",
       "      <td>-2778.885879</td>\n",
       "      <td>-1654.167632</td>\n",
       "      <td>-2171.256625</td>\n",
       "      <td>-1707.422242</td>\n",
       "      <td>-2082.162664</td>\n",
       "      <td>-1783.693456</td>\n",
       "      <td>0.288442</td>\n",
       "      <td>0.007442</td>\n",
       "      <td>309.582924</td>\n",
       "      <td>53.156259</td>\n",
       "    </tr>\n",
       "    <tr>\n",
       "      <th>2</th>\n",
       "      <td>6.230664</td>\n",
       "      <td>0.064670</td>\n",
       "      <td>-2352.859898</td>\n",
       "      <td>-1714.083592</td>\n",
       "      <td>0.01</td>\n",
       "      <td>{'alpha': 0.01}</td>\n",
       "      <td>3</td>\n",
       "      <td>-2814.437780</td>\n",
       "      <td>-1653.646304</td>\n",
       "      <td>-2179.109662</td>\n",
       "      <td>-1706.074609</td>\n",
       "      <td>-2065.032253</td>\n",
       "      <td>-1782.529864</td>\n",
       "      <td>0.492969</td>\n",
       "      <td>0.007028</td>\n",
       "      <td>329.690784</td>\n",
       "      <td>52.920386</td>\n",
       "    </tr>\n",
       "    <tr>\n",
       "      <th>1</th>\n",
       "      <td>6.183000</td>\n",
       "      <td>0.057835</td>\n",
       "      <td>-2368.242088</td>\n",
       "      <td>-1713.681495</td>\n",
       "      <td>0.001</td>\n",
       "      <td>{'alpha': 0.001}</td>\n",
       "      <td>4</td>\n",
       "      <td>-2864.737802</td>\n",
       "      <td>-1653.436617</td>\n",
       "      <td>-2191.288546</td>\n",
       "      <td>-1705.597436</td>\n",
       "      <td>-2048.699916</td>\n",
       "      <td>-1782.010432</td>\n",
       "      <td>0.341903</td>\n",
       "      <td>0.003519</td>\n",
       "      <td>355.868772</td>\n",
       "      <td>52.800382</td>\n",
       "    </tr>\n",
       "    <tr>\n",
       "      <th>0</th>\n",
       "      <td>4.977605</td>\n",
       "      <td>0.081504</td>\n",
       "      <td>-2392.668035</td>\n",
       "      <td>-1713.590274</td>\n",
       "      <td>0.0001</td>\n",
       "      <td>{'alpha': 0.0001}</td>\n",
       "      <td>5</td>\n",
       "      <td>-2918.779540</td>\n",
       "      <td>-1653.424662</td>\n",
       "      <td>-2208.334979</td>\n",
       "      <td>-1705.387950</td>\n",
       "      <td>-2050.889586</td>\n",
       "      <td>-1781.958211</td>\n",
       "      <td>1.834457</td>\n",
       "      <td>0.009275</td>\n",
       "      <td>377.529027</td>\n",
       "      <td>52.793162</td>\n",
       "    </tr>\n",
       "  </tbody>\n",
       "</table>\n",
       "</div>"
      ],
      "text/plain": [
       "   mean_fit_time  mean_score_time  mean_test_score  mean_train_score  \\\n",
       "4       3.496018         0.045509     -2335.383383      -1716.224334   \n",
       "3       5.211334         0.049334     -2344.101723      -1715.094443   \n",
       "2       6.230664         0.064670     -2352.859898      -1714.083592   \n",
       "1       6.183000         0.057835     -2368.242088      -1713.681495   \n",
       "0       4.977605         0.081504     -2392.668035      -1713.590274   \n",
       "\n",
       "  param_alpha             params  rank_test_score  split0_test_score  \\\n",
       "4           1     {'alpha': 1.0}                1       -2757.385827   \n",
       "3         0.1     {'alpha': 0.1}                2       -2778.885879   \n",
       "2        0.01    {'alpha': 0.01}                3       -2814.437780   \n",
       "1       0.001   {'alpha': 0.001}                4       -2864.737802   \n",
       "0      0.0001  {'alpha': 0.0001}                5       -2918.779540   \n",
       "\n",
       "   split0_train_score  split1_test_score  split1_train_score  \\\n",
       "4        -1655.054086       -2173.792776        -1708.902496   \n",
       "3        -1654.167632       -2171.256625        -1707.422242   \n",
       "2        -1653.646304       -2179.109662        -1706.074609   \n",
       "1        -1653.436617       -2191.288546        -1705.597436   \n",
       "0        -1653.424662       -2208.334979        -1705.387950   \n",
       "\n",
       "   split2_test_score  split2_train_score  std_fit_time  std_score_time  \\\n",
       "4       -2074.971545        -1784.716422      0.961480        0.007075   \n",
       "3       -2082.162664        -1783.693456      0.288442        0.007442   \n",
       "2       -2065.032253        -1782.529864      0.492969        0.007028   \n",
       "1       -2048.699916        -1782.010432      0.341903        0.003519   \n",
       "0       -2050.889586        -1781.958211      1.834457        0.009275   \n",
       "\n",
       "   std_test_score  std_train_score  \n",
       "4      301.115655        53.187012  \n",
       "3      309.582924        53.156259  \n",
       "2      329.690784        52.920386  \n",
       "1      355.868772        52.800382  \n",
       "0      377.529027        52.793162  "
      ]
     },
     "execution_count": 8,
     "metadata": {},
     "output_type": "execute_result"
    }
   ],
   "source": [
    "cv_results = pd.DataFrame(regr_pipe.named_steps['regr_cv'].cv_results_)\n",
    "cv_results.sort_values(by='rank_test_score')"
   ]
  },
  {
   "cell_type": "code",
   "execution_count": 9,
   "metadata": {},
   "outputs": [
    {
     "data": {
      "image/png": "[encoded data removed]",
      "text/plain": [
       "<matplotlib.figure.Figure at 0x24b000f19b0>"
      ]
     },
     "metadata": {},
     "output_type": "display_data"
    }
   ],
   "source": [
    "plt.figure(figsize=(15, 5))\n",
    "plt.plot(cv_results['param_alpha'], -cv_results['mean_test_score'], 'ro')\n",
    "plt.title('CV mean squared error')\n",
    "plt.show()"
   ]
  }
 ],
 "metadata": {
  "kernelspec": {
   "display_name": "TimeSeriesForecastingTutorial local",
   "language": "python",
   "name": "timeseriesforecastingtutorial_local"
  },
  "language_info": {
   "codemirror_mode": {
    "name": "ipython",
    "version": 3
   },
   "file_extension": ".py",
   "mimetype": "text/x-python",
   "name": "python",
   "nbconvert_exporter": "python",
   "pygments_lexer": "ipython3",
   "version": "3.5.2"
  }
 },
 "nbformat": 4,
 "nbformat_minor": 2
}
