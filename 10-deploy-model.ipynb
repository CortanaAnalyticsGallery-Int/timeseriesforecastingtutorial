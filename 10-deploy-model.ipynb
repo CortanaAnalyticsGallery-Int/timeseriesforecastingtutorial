{
 "cells": [
  {
   "cell_type": "markdown",
   "metadata": {},
   "source": [
    "# Deploy model"
   ]
  },
  {
   "cell_type": "code",
   "execution_count": 1,
   "metadata": {
    "collapsed": true
   },
   "outputs": [],
   "source": [
    "from azureml.api.schema.dataTypes import DataTypes\n",
    "from azureml.api.schema.sampleDefinition import SampleDefinition\n",
    "from azureml.api.realtime.services import generate_schema\n",
    "import pandas as pd\n",
    "import numpy as np\n",
    "import imp\n",
    "import pickle\n",
    "import os"
   ]
  },
  {
   "cell_type": "code",
   "execution_count": 2,
   "metadata": {
    "collapsed": true
   },
   "outputs": [],
   "source": [
    "aml_dir = os.environ['AZUREML_NATIVE_SHARE_DIRECTORY']"
   ]
  },
  {
   "cell_type": "markdown",
   "metadata": {},
   "source": [
    "Load the test dataset and retain just one row. This record will be used to create and input schema for the web service. It will also allow us to simulate invoking the web service with features for one hour period and generating a demand forecast for this hour."
   ]
  },
  {
   "cell_type": "code",
   "execution_count": 6,
   "metadata": {},
   "outputs": [
    {
     "data": {
      "text/html": [
       "<div>\n",
       "<style>\n",
       "    .dataframe thead tr:only-child th {\n",
       "        text-align: right;\n",
       "    }\n",
       "\n",
       "    .dataframe thead th {\n",
       "        text-align: left;\n",
       "    }\n",
       "\n",
       "    .dataframe tbody tr th {\n",
       "        vertical-align: top;\n",
       "    }\n",
       "</style>\n",
       "<table border=\"1\" class=\"dataframe\">\n",
       "  <thead>\n",
       "    <tr style=\"text-align: right;\">\n",
       "      <th></th>\n",
       "      <th>precip</th>\n",
       "      <th>temp</th>\n",
       "      <th>hour</th>\n",
       "      <th>month</th>\n",
       "      <th>dayofweek</th>\n",
       "      <th>demand_lag1</th>\n",
       "      <th>demand_lag2</th>\n",
       "      <th>demand_lag3</th>\n",
       "      <th>demand_lag4</th>\n",
       "      <th>demand_lag5</th>\n",
       "      <th>demand_lag6</th>\n",
       "      <th>demand_lag12</th>\n",
       "      <th>demand_lag24</th>\n",
       "      <th>demand_rmean_day</th>\n",
       "      <th>demand_rmean_wk</th>\n",
       "      <th>temp_rmean_day</th>\n",
       "      <th>temp_rmean_wk</th>\n",
       "    </tr>\n",
       "  </thead>\n",
       "  <tbody>\n",
       "    <tr>\n",
       "      <th>0</th>\n",
       "      <td>0.0</td>\n",
       "      <td>74.63</td>\n",
       "      <td>0</td>\n",
       "      <td>6</td>\n",
       "      <td>4</td>\n",
       "      <td>6912.7</td>\n",
       "      <td>7332.625</td>\n",
       "      <td>7576.558</td>\n",
       "      <td>7603.008</td>\n",
       "      <td>7788.292</td>\n",
       "      <td>8102.142</td>\n",
       "      <td>8161.383</td>\n",
       "      <td>6247.433</td>\n",
       "      <td>7205.5525</td>\n",
       "      <td>6927.0806</td>\n",
       "      <td>76.0283</td>\n",
       "      <td>74.159</td>\n",
       "    </tr>\n",
       "  </tbody>\n",
       "</table>\n",
       "</div>"
      ],
      "text/plain": [
       "   precip   temp  hour  month  dayofweek  demand_lag1  demand_lag2  \\\n",
       "0     0.0  74.63     0      6          4       6912.7     7332.625   \n",
       "\n",
       "   demand_lag3  demand_lag4  demand_lag5  demand_lag6  demand_lag12  \\\n",
       "0     7576.558     7603.008     7788.292     8102.142      8161.383   \n",
       "\n",
       "   demand_lag24  demand_rmean_day  demand_rmean_wk  temp_rmean_day  \\\n",
       "0      6247.433         7205.5525        6927.0806         76.0283   \n",
       "\n",
       "   temp_rmean_wk  \n",
       "0         74.159  "
      ]
     },
     "execution_count": 6,
     "metadata": {},
     "output_type": "execute_result"
    }
   ],
   "source": [
    "test_df = pd.read_csv(aml_dir + 'nyc_demand_test.csv', parse_dates=['timeStamp'])\n",
    "test_df = test_df.drop(['demand', 'timeStamp'], axis=1).copy().iloc[[0]]\n",
    "test_df"
   ]
  },
  {
   "cell_type": "markdown",
   "metadata": {},
   "source": [
    "Load model from disk. Enter the name of the model to deploy."
   ]
  },
  {
   "cell_type": "code",
   "execution_count": 39,
   "metadata": {
    "collapsed": true
   },
   "outputs": [],
   "source": [
    "model_name = \"linear_regression\"\n",
    "with open(aml_dir + model_name + '.pkl', 'rb') as f:\n",
    "    mod = pickle.load(f)\n",
    "    \n",
    "if not os.path.exists('models'):\n",
    "    os.makedirs('models')\n",
    "with open('./models/model.pkl', 'wb') as f:\n",
    "    mod = pickle.dump(mod, f)"
   ]
  },
  {
   "cell_type": "code",
   "execution_count": 10,
   "metadata": {},
   "outputs": [
    {
     "data": {
      "text/plain": [
       "Pipeline(memory=None,\n",
       "     steps=[('onehot', OneHotEncoder(categorical_features=[2, 3, 4], dtype=<class 'numpy.float64'>,\n",
       "       handle_unknown='error', n_values='auto', sparse=False)), ('rfecv', RFECV(cv=TimeSeriesSplit(max_train_size=None, n_splits=3),\n",
       "   estimator=LinearRegression(copy_X=True, fit_intercept=True, n_jobs=1, normalize=False),\n",
       "   n_jobs=-1, scoring='neg_mean_squared_error', step=1, verbose=2))])"
      ]
     },
     "execution_count": 10,
     "metadata": {},
     "output_type": "execute_result"
    }
   ],
   "source": [
    "mod"
   ]
  },
  {
   "cell_type": "markdown",
   "metadata": {},
   "source": [
    "Apply model to predict test record"
   ]
  },
  {
   "cell_type": "code",
   "execution_count": 11,
   "metadata": {},
   "outputs": [
    {
     "data": {
      "text/plain": [
       "array([ 6472.48906406])"
      ]
     },
     "execution_count": 11,
     "metadata": {},
     "output_type": "execute_result"
    }
   ],
   "source": [
    "mod.predict(test_df)"
   ]
  },
  {
   "cell_type": "markdown",
   "metadata": {},
   "source": [
    "### Author a realtime web service"
   ]
  },
  {
   "cell_type": "markdown",
   "metadata": {},
   "source": [
    "Create a score.py script which implements the scoring function to run inside the web service. Change model_name variable as required."
   ]
  },
  {
   "cell_type": "code",
   "execution_count": 42,
   "metadata": {},
   "outputs": [
    {
     "name": "stdout",
     "output_type": "stream",
     "text": [
      "Overwriting score.py\n"
     ]
    }
   ],
   "source": [
    "%%writefile score.py\n",
    "# The init and run functions will load and score the input using the saved model.\n",
    "# The score.py file will be included in the web service deployment package.\n",
    "def init():\n",
    "    import pickle\n",
    "    import os\n",
    "    global model\n",
    "    \n",
    "    with open('./models/model.pkl', 'rb') as f:\n",
    "        model = pickle.load(f)\n",
    "    \n",
    "def run(input_df):\n",
    "    try:\n",
    "        if (input_df.shape != (1,17)):\n",
    "            return 'Bad imput: Expecting dataframe of shape (1,17)'\n",
    "        else:\n",
    "            pred = model.predict(input_df)\n",
    "            return int(pred)\n",
    "    except Exception as e:\n",
    "        return(str(e))"
   ]
  },
  {
   "cell_type": "markdown",
   "metadata": {},
   "source": [
    "This script will be written to your current working directory:"
   ]
  },
  {
   "cell_type": "code",
   "execution_count": 23,
   "metadata": {},
   "outputs": [
    {
     "data": {
      "text/plain": [
       "'C:\\\\Users\\\\anta\\\\AppData\\\\Local\\\\Temp\\\\azureml_runs\\\\TimeSeriesForecastingTutorial_1505320068078'"
      ]
     },
     "execution_count": 23,
     "metadata": {},
     "output_type": "execute_result"
    }
   ],
   "source": [
    "os.getcwd()"
   ]
  },
  {
   "cell_type": "markdown",
   "metadata": {},
   "source": [
    "### Test the *init* and *run* functions"
   ]
  },
  {
   "cell_type": "code",
   "execution_count": 18,
   "metadata": {
    "collapsed": true
   },
   "outputs": [],
   "source": [
    "import score"
   ]
  },
  {
   "cell_type": "markdown",
   "metadata": {},
   "source": [
    "Use this command to reimport the score module if you subsequently make changes to it in this session."
   ]
  },
  {
   "cell_type": "code",
   "execution_count": 43,
   "metadata": {},
   "outputs": [
    {
     "name": "stdout",
     "output_type": "stream",
     "text": [
      "('Connection aborted.', RemoteDisconnected('Remote end closed connection without response',))\n"
     ]
    },
    {
     "data": {
      "text/plain": [
       "<module 'score' from 'C:\\\\Users\\\\anta\\\\AppData\\\\Local\\\\Temp\\\\azureml_runs\\\\TimeSeriesForecastingTutorial_1505320068078\\\\score.py'>"
      ]
     },
     "execution_count": 43,
     "metadata": {},
     "output_type": "execute_result"
    }
   ],
   "source": [
    "imp.reload(score)"
   ]
  },
  {
   "cell_type": "code",
   "execution_count": 44,
   "metadata": {},
   "outputs": [
    {
     "data": {
      "text/plain": [
       "6472"
      ]
     },
     "execution_count": 44,
     "metadata": {},
     "output_type": "execute_result"
    }
   ],
   "source": [
    "score.init()\n",
    "score.run(test_df)"
   ]
  },
  {
   "cell_type": "markdown",
   "metadata": {},
   "source": [
    "### Create Web Service Schema\n",
    "The web service schema provides details on the required structure of the input data as well as the data types of each column."
   ]
  },
  {
   "cell_type": "code",
   "execution_count": 34,
   "metadata": {
    "scrolled": true
   },
   "outputs": [
    {
     "data": {
      "text/plain": [
       "{'input': {'input_df': {'internal': 'gANjYXp1cmVtbC5hcGkuc2NoZW1hLnBhbmRhc1V0aWwKUGFuZGFzU2NoZW1hCnEAKYFxAX1xAihYDAAAAGNvbHVtbl9uYW1lc3EDXXEEKFgGAAAAcHJlY2lwcQVYBAAAAHRlbXBxBlgEAAAAaG91cnEHWAUAAABtb250aHEIWAkAAABkYXlvZndlZWtxCVgLAAAAZGVtYW5kX2xhZzFxClgLAAAAZGVtYW5kX2xhZzJxC1gLAAAAZGVtYW5kX2xhZzNxDFgLAAAAZGVtYW5kX2xhZzRxDVgLAAAAZGVtYW5kX2xhZzVxDlgLAAAAZGVtYW5kX2xhZzZxD1gMAAAAZGVtYW5kX2xhZzEycRBYDAAAAGRlbWFuZF9sYWcyNHERWBAAAABkZW1hbmRfcm1lYW5fZGF5cRJYDwAAAGRlbWFuZF9ybWVhbl93a3ETWA4AAAB0ZW1wX3JtZWFuX2RheXEUWA0AAAB0ZW1wX3JtZWFuX3drcRVlWAwAAABjb2x1bW5fdHlwZXNxFl1xFyhjbnVtcHkKZHR5cGUKcRhYAgAAAGY4cRlLAEsBh3EaUnEbKEsDWAEAAAA8cRxOTk5K/////0r/////SwB0cR1iaBtoGFgCAAAAaThxHksASwGHcR9ScSAoSwNoHE5OTkr/////Sv////9LAHRxIWJoIGggaBtoG2gbaBtoG2gbaBtoG2gbaBtoG2gbZVgFAAAAc2hhcGVxIksBSxGGcSN1Yi4=',\n",
       "   'swagger': {'example': [{'dayofweek': 4,\n",
       "      'demand_lag1': 6912.7,\n",
       "      'demand_lag12': 8161.383,\n",
       "      'demand_lag2': 7332.625,\n",
       "      'demand_lag24': 6247.433,\n",
       "      'demand_lag3': 7576.558,\n",
       "      'demand_lag4': 7603.008,\n",
       "      'demand_lag5': 7788.292,\n",
       "      'demand_lag6': 8102.142,\n",
       "      'demand_rmean_day': 7205.5525,\n",
       "      'demand_rmean_wk': 6927.0806,\n",
       "      'hour': 0,\n",
       "      'month': 6,\n",
       "      'precip': 0.0,\n",
       "      'temp': 74.63,\n",
       "      'temp_rmean_day': 76.0283,\n",
       "      'temp_rmean_wk': 74.159}],\n",
       "    'items': {'properties': {'dayofweek': {'format': 'int64',\n",
       "       'type': 'integer'},\n",
       "      'demand_lag1': {'format': 'double', 'type': 'number'},\n",
       "      'demand_lag12': {'format': 'double', 'type': 'number'},\n",
       "      'demand_lag2': {'format': 'double', 'type': 'number'},\n",
       "      'demand_lag24': {'format': 'double', 'type': 'number'},\n",
       "      'demand_lag3': {'format': 'double', 'type': 'number'},\n",
       "      'demand_lag4': {'format': 'double', 'type': 'number'},\n",
       "      'demand_lag5': {'format': 'double', 'type': 'number'},\n",
       "      'demand_lag6': {'format': 'double', 'type': 'number'},\n",
       "      'demand_rmean_day': {'format': 'double', 'type': 'number'},\n",
       "      'demand_rmean_wk': {'format': 'double', 'type': 'number'},\n",
       "      'hour': {'format': 'int64', 'type': 'integer'},\n",
       "      'month': {'format': 'int64', 'type': 'integer'},\n",
       "      'precip': {'format': 'double', 'type': 'number'},\n",
       "      'temp': {'format': 'double', 'type': 'number'},\n",
       "      'temp_rmean_day': {'format': 'double', 'type': 'number'},\n",
       "      'temp_rmean_wk': {'format': 'double', 'type': 'number'}},\n",
       "     'type': 'object'},\n",
       "    'type': 'array'},\n",
       "   'type': 3}}}"
      ]
     },
     "execution_count": 34,
     "metadata": {},
     "output_type": "execute_result"
    }
   ],
   "source": [
    "inputs = {\"input_df\": SampleDefinition(DataTypes.PANDAS, test_df)}\n",
    "generate_schema(run_func=score.run, inputs=inputs, filepath=\"service_schema.json\")"
   ]
  },
  {
   "cell_type": "markdown",
   "metadata": {},
   "source": [
    "### Deploy the web service\n",
    "Open the Azure Machine Learning command-line interface under the File menu. Run the following commands to deploy the web service to your local machine."
   ]
  },
  {
   "cell_type": "markdown",
   "metadata": {},
   "source": [
    "> az ml service create realtime -f score.py -m ../ -s service_schema.json -n demandforecast -r python"
   ]
  },
  {
   "cell_type": "code",
   "execution_count": null,
   "metadata": {
    "collapsed": true
   },
   "outputs": [],
   "source": []
  },
  {
   "cell_type": "code",
   "execution_count": null,
   "metadata": {
    "collapsed": true
   },
   "outputs": [],
   "source": []
  }
 ],
 "metadata": {
  "kernelspec": {
   "display_name": "TimeSeriesForecastingTutorial local",
   "language": "python",
   "name": "timeseriesforecastingtutorial_local"
  },
  "language_info": {
   "codemirror_mode": {
    "name": "ipython",
    "version": 3
   },
   "file_extension": ".py",
   "mimetype": "text/x-python",
   "name": "python",
   "nbconvert_exporter": "python",
   "pygments_lexer": "ipython3",
   "version": "3.5.2"
  }
 },
 "nbformat": 4,
 "nbformat_minor": 2
}
