{
 "cells": [
  {
   "cell_type": "markdown",
   "metadata": {},
   "source": [
    "# Ridge regression with polynomial features of degree 2"
   ]
  },
  {
   "cell_type": "code",
   "execution_count": 1,
   "metadata": {
    "collapsed": true
   },
   "outputs": [],
   "source": [
    "%matplotlib inline\n",
    "import pandas as pd\n",
    "import numpy as np\n",
    "import matplotlib.pyplot as plt\n",
    "from sklearn.pipeline import Pipeline\n",
    "from sklearn.preprocessing import OneHotEncoder\n",
    "from sklearn.linear_model import Ridge\n",
    "from sklearn.metrics import mean_squared_error\n",
    "from sklearn.model_selection import TimeSeriesSplit\n",
    "from sklearn.model_selection import GridSearchCV\n",
    "from sklearn.preprocessing import PolynomialFeatures\n",
    "import pickle\n",
    "import os"
   ]
  },
  {
   "cell_type": "code",
   "execution_count": 3,
   "metadata": {
    "collapsed": true
   },
   "outputs": [],
   "source": [
    "model_name = \"ridge_poly2\"\n",
    "aml_dir = os.environ['AZUREML_NATIVE_SHARE_DIRECTORY']\n",
    "train = pd.read_csv(aml_dir + 'nyc_demand_train.csv', parse_dates=['timeStamp'])"
   ]
  },
  {
   "cell_type": "markdown",
   "metadata": {},
   "source": [
    "Create model pipeline:\n",
    "- one-hot encode categorical features.\n",
    "- create polynomial features of degree 2. This means that for each pair of features $(x_1, x_2)$, the output features are $(x_1, x_2, x_1^2, x_1x_2, x_2^2)$\n",
    "- use grid search to find optimal values for the alpha parameter."
   ]
  },
  {
   "cell_type": "code",
   "execution_count": null,
   "metadata": {
    "collapsed": true
   },
   "outputs": [],
   "source": [
    "X = train.drop(['demand', 'timeStamp'], axis=1)"
   ]
  },
  {
   "cell_type": "code",
   "execution_count": 4,
   "metadata": {
    "collapsed": true
   },
   "outputs": [],
   "source": [
    "cat_cols = ['hour', 'month', 'dayofweek']\n",
    "cat_cols_idx = [X.columns.get_loc(c) for c in X.columns if c in cat_cols]\n",
    "onehot = OneHotEncoder(categorical_features=cat_cols_idx, sparse=False)\n",
    "regr = Ridge(fit_intercept=False)\n",
    "poly = PolynomialFeatures(2)\n",
    "tscv = TimeSeriesSplit(n_splits=3)"
   ]
  },
  {
   "cell_type": "code",
   "execution_count": 6,
   "metadata": {},
   "outputs": [
    {
     "name": "stdout",
     "output_type": "stream",
     "text": [
      "Fitting 3 folds for each of 5 candidates, totalling 15 fits\n"
     ]
    },
    {
     "name": "stderr",
     "output_type": "stream",
     "text": [
      "[Parallel(n_jobs=-1)]: Done  15 out of  15 | elapsed:   50.9s finished\n"
     ]
    },
    {
     "data": {
      "text/plain": [
       "Pipeline(memory=None,\n",
       "     steps=[('onehot', OneHotEncoder(categorical_features=[2, 3, 4], dtype=<class 'numpy.float64'>,\n",
       "       handle_unknown='error', n_values='auto', sparse=False)), ('poly', PolynomialFeatures(degree=2, include_bias=True, interaction_only=False)), ('regr_cv', GridSearchCV(cv=None, error_score='raise',\n",
       "   ...*n_jobs', refit=True, return_train_score=True,\n",
       "       scoring='neg_mean_squared_error', verbose=2))])"
      ]
     },
     "execution_count": 6,
     "metadata": {},
     "output_type": "execute_result"
    }
   ],
   "source": [
    "param_grid = {'alpha': [ 1e-4, 1e-3, 1e-2, 0.1, 1.0]}\n",
    "regr_cv = GridSearchCV(estimator=regr,\n",
    "                            param_grid=param_grid,\n",
    "                            scoring='neg_mean_squared_error',\n",
    "                            iid=False,\n",
    "                            verbose=2,\n",
    "                            n_jobs=-1)\n",
    "regr_pipe = Pipeline([('onehot', onehot), ('poly', poly), ('regr_cv', regr_cv)])\n",
    "regr_pipe.fit(X, y=train['demand'])"
   ]
  },
  {
   "cell_type": "markdown",
   "metadata": {},
   "source": [
    "Save model to AML shared directory"
   ]
  },
  {
   "cell_type": "code",
   "execution_count": 7,
   "metadata": {
    "collapsed": true
   },
   "outputs": [],
   "source": [
    "with open(aml_dir + model_name + '.pkl', 'wb') as f:\n",
    "    pickle.dump(regr_pipe, f)"
   ]
  },
  {
   "cell_type": "markdown",
   "metadata": {},
   "source": [
    "### Cross validation results"
   ]
  },
  {
   "cell_type": "code",
   "execution_count": 8,
   "metadata": {},
   "outputs": [
    {
     "data": {
      "text/html": [
       "<div>\n",
       "<style>\n",
       "    .dataframe thead tr:only-child th {\n",
       "        text-align: right;\n",
       "    }\n",
       "\n",
       "    .dataframe thead th {\n",
       "        text-align: left;\n",
       "    }\n",
       "\n",
       "    .dataframe tbody tr th {\n",
       "        vertical-align: top;\n",
       "    }\n",
       "</style>\n",
       "<table border=\"1\" class=\"dataframe\">\n",
       "  <thead>\n",
       "    <tr style=\"text-align: right;\">\n",
       "      <th></th>\n",
       "      <th>mean_fit_time</th>\n",
       "      <th>mean_score_time</th>\n",
       "      <th>mean_test_score</th>\n",
       "      <th>mean_train_score</th>\n",
       "      <th>param_alpha</th>\n",
       "      <th>params</th>\n",
       "      <th>rank_test_score</th>\n",
       "      <th>split0_test_score</th>\n",
       "      <th>split0_train_score</th>\n",
       "      <th>split1_test_score</th>\n",
       "      <th>split1_train_score</th>\n",
       "      <th>split2_test_score</th>\n",
       "      <th>split2_train_score</th>\n",
       "      <th>std_fit_time</th>\n",
       "      <th>std_score_time</th>\n",
       "      <th>std_test_score</th>\n",
       "      <th>std_train_score</th>\n",
       "    </tr>\n",
       "  </thead>\n",
       "  <tbody>\n",
       "    <tr>\n",
       "      <th>4</th>\n",
       "      <td>8.071834</td>\n",
       "      <td>0.075002</td>\n",
       "      <td>-1254.909901</td>\n",
       "      <td>-1026.437903</td>\n",
       "      <td>1</td>\n",
       "      <td>{'alpha': 1.0}</td>\n",
       "      <td>1</td>\n",
       "      <td>-1331.436417</td>\n",
       "      <td>-999.838557</td>\n",
       "      <td>-1203.328295</td>\n",
       "      <td>-1039.932388</td>\n",
       "      <td>-1229.964990</td>\n",
       "      <td>-1039.542765</td>\n",
       "      <td>0.804378</td>\n",
       "      <td>0.014166</td>\n",
       "      <td>55.194258</td>\n",
       "      <td>18.809251</td>\n",
       "    </tr>\n",
       "    <tr>\n",
       "      <th>3</th>\n",
       "      <td>10.161840</td>\n",
       "      <td>0.093162</td>\n",
       "      <td>-1262.637908</td>\n",
       "      <td>-1019.471796</td>\n",
       "      <td>0.1</td>\n",
       "      <td>{'alpha': 0.1}</td>\n",
       "      <td>2</td>\n",
       "      <td>-1347.240096</td>\n",
       "      <td>-993.642476</td>\n",
       "      <td>-1206.815383</td>\n",
       "      <td>-1032.219289</td>\n",
       "      <td>-1233.858244</td>\n",
       "      <td>-1032.553624</td>\n",
       "      <td>0.773314</td>\n",
       "      <td>0.012683</td>\n",
       "      <td>60.832977</td>\n",
       "      <td>18.264597</td>\n",
       "    </tr>\n",
       "    <tr>\n",
       "      <th>2</th>\n",
       "      <td>9.931501</td>\n",
       "      <td>0.089002</td>\n",
       "      <td>-1265.507298</td>\n",
       "      <td>-1017.347906</td>\n",
       "      <td>0.01</td>\n",
       "      <td>{'alpha': 0.01}</td>\n",
       "      <td>3</td>\n",
       "      <td>-1350.927179</td>\n",
       "      <td>-992.095951</td>\n",
       "      <td>-1208.501572</td>\n",
       "      <td>-1029.980763</td>\n",
       "      <td>-1237.093142</td>\n",
       "      <td>-1029.967004</td>\n",
       "      <td>1.547650</td>\n",
       "      <td>0.014237</td>\n",
       "      <td>61.518488</td>\n",
       "      <td>17.855830</td>\n",
       "    </tr>\n",
       "    <tr>\n",
       "      <th>1</th>\n",
       "      <td>9.704336</td>\n",
       "      <td>0.088166</td>\n",
       "      <td>-1266.403337</td>\n",
       "      <td>-1017.034483</td>\n",
       "      <td>0.001</td>\n",
       "      <td>{'alpha': 0.001}</td>\n",
       "      <td>4</td>\n",
       "      <td>-1349.382950</td>\n",
       "      <td>-991.856112</td>\n",
       "      <td>-1209.105907</td>\n",
       "      <td>-1029.707908</td>\n",
       "      <td>-1240.721153</td>\n",
       "      <td>-1029.539428</td>\n",
       "      <td>1.501017</td>\n",
       "      <td>0.005720</td>\n",
       "      <td>60.078244</td>\n",
       "      <td>17.803930</td>\n",
       "    </tr>\n",
       "    <tr>\n",
       "      <th>0</th>\n",
       "      <td>10.961910</td>\n",
       "      <td>0.097670</td>\n",
       "      <td>-1266.606758</td>\n",
       "      <td>-1017.027997</td>\n",
       "      <td>0.0001</td>\n",
       "      <td>{'alpha': 0.0001}</td>\n",
       "      <td>5</td>\n",
       "      <td>-1349.163871</td>\n",
       "      <td>-991.850778</td>\n",
       "      <td>-1209.236706</td>\n",
       "      <td>-1029.702828</td>\n",
       "      <td>-1241.419698</td>\n",
       "      <td>-1029.530384</td>\n",
       "      <td>1.215020</td>\n",
       "      <td>0.014436</td>\n",
       "      <td>59.836966</td>\n",
       "      <td>17.803121</td>\n",
       "    </tr>\n",
       "  </tbody>\n",
       "</table>\n",
       "</div>"
      ],
      "text/plain": [
       "   mean_fit_time  mean_score_time  mean_test_score  mean_train_score  \\\n",
       "4       8.071834         0.075002     -1254.909901      -1026.437903   \n",
       "3      10.161840         0.093162     -1262.637908      -1019.471796   \n",
       "2       9.931501         0.089002     -1265.507298      -1017.347906   \n",
       "1       9.704336         0.088166     -1266.403337      -1017.034483   \n",
       "0      10.961910         0.097670     -1266.606758      -1017.027997   \n",
       "\n",
       "  param_alpha             params  rank_test_score  split0_test_score  \\\n",
       "4           1     {'alpha': 1.0}                1       -1331.436417   \n",
       "3         0.1     {'alpha': 0.1}                2       -1347.240096   \n",
       "2        0.01    {'alpha': 0.01}                3       -1350.927179   \n",
       "1       0.001   {'alpha': 0.001}                4       -1349.382950   \n",
       "0      0.0001  {'alpha': 0.0001}                5       -1349.163871   \n",
       "\n",
       "   split0_train_score  split1_test_score  split1_train_score  \\\n",
       "4         -999.838557       -1203.328295        -1039.932388   \n",
       "3         -993.642476       -1206.815383        -1032.219289   \n",
       "2         -992.095951       -1208.501572        -1029.980763   \n",
       "1         -991.856112       -1209.105907        -1029.707908   \n",
       "0         -991.850778       -1209.236706        -1029.702828   \n",
       "\n",
       "   split2_test_score  split2_train_score  std_fit_time  std_score_time  \\\n",
       "4       -1229.964990        -1039.542765      0.804378        0.014166   \n",
       "3       -1233.858244        -1032.553624      0.773314        0.012683   \n",
       "2       -1237.093142        -1029.967004      1.547650        0.014237   \n",
       "1       -1240.721153        -1029.539428      1.501017        0.005720   \n",
       "0       -1241.419698        -1029.530384      1.215020        0.014436   \n",
       "\n",
       "   std_test_score  std_train_score  \n",
       "4       55.194258        18.809251  \n",
       "3       60.832977        18.264597  \n",
       "2       61.518488        17.855830  \n",
       "1       60.078244        17.803930  \n",
       "0       59.836966        17.803121  "
      ]
     },
     "execution_count": 8,
     "metadata": {},
     "output_type": "execute_result"
    }
   ],
   "source": [
    "cv_results = pd.DataFrame(regr_pipe.named_steps['regr_cv'].cv_results_)\n",
    "cv_results.sort_values(by='rank_test_score')"
   ]
  },
  {
   "cell_type": "code",
   "execution_count": 9,
   "metadata": {},
   "outputs": [
    {
     "data": {
      "image/png": "[encoded data removed]",
      "text/plain": [
       "<matplotlib.figure.Figure at 0x228d66eb278>"
      ]
     },
     "metadata": {},
     "output_type": "display_data"
    }
   ],
   "source": [
    "plt.figure(figsize=(15, 5))\n",
    "plt.plot(cv_results['param_alpha'], -cv_results['mean_test_score'], 'ro')\n",
    "plt.title('CV mean squared error')\n",
    "plt.show()"
   ]
  }
 ],
 "metadata": {
  "kernelspec": {
   "display_name": "TimeSeriesForecastingTutorial local",
   "language": "python",
   "name": "timeseriesforecastingtutorial_local"
  },
  "language_info": {
   "codemirror_mode": {
    "name": "ipython",
    "version": 3
   },
   "file_extension": ".py",
   "mimetype": "text/x-python",
   "name": "python",
   "nbconvert_exporter": "python",
   "pygments_lexer": "ipython3",
   "version": "3.5.2"
  }
 },
 "nbformat": 4,
 "nbformat_minor": 2
}
