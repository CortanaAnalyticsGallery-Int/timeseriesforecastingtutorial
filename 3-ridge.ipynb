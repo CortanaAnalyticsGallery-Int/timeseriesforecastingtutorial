{
 "cells": [
  {
   "cell_type": "markdown",
   "metadata": {},
   "source": [
    "# Ridge regression"
   ]
  },
  {
   "cell_type": "code",
   "execution_count": 1,
   "metadata": {
    "collapsed": true
   },
   "outputs": [],
   "source": [
    "%matplotlib inline\n",
    "import pandas as pd\n",
    "import numpy as np\n",
    "import matplotlib.pyplot as plt\n",
    "from sklearn.pipeline import Pipeline\n",
    "from sklearn.preprocessing import OneHotEncoder\n",
    "from sklearn.linear_model import Ridge\n",
    "from sklearn.metrics import mean_squared_error\n",
    "from sklearn.model_selection import TimeSeriesSplit\n",
    "from sklearn.model_selection import GridSearchCV\n",
    "import pickle\n",
    "import os"
   ]
  },
  {
   "cell_type": "code",
   "execution_count": 4,
   "metadata": {
    "collapsed": true
   },
   "outputs": [],
   "source": [
    "model_name = \"ridge\"\n",
    "aml_dir = os.environ['AZUREML_NATIVE_SHARE_DIRECTORY']\n",
    "train = pd.read_csv(aml_dir + 'nyc_demand_train.csv', parse_dates=['timeStamp'])"
   ]
  },
  {
   "cell_type": "markdown",
   "metadata": {},
   "source": [
    "Create model pipeline:\n",
    "- one-hot encode categorical variables\n",
    "- grid search to find optimal values for the alpha parameter "
   ]
  },
  {
   "cell_type": "code",
   "execution_count": 6,
   "metadata": {
    "collapsed": true
   },
   "outputs": [],
   "source": [
    "X = train.drop(['demand', 'timeStamp'], axis=1)"
   ]
  },
  {
   "cell_type": "code",
   "execution_count": 7,
   "metadata": {
    "collapsed": true
   },
   "outputs": [],
   "source": [
    "cat_cols = ['hour', 'month', 'dayofweek']\n",
    "cat_cols_idx = [X.columns.get_loc(c) for c in X.columns if c in cat_cols]\n",
    "onehot = OneHotEncoder(categorical_features=cat_cols_idx, sparse=False)\n",
    "regr = Ridge(fit_intercept=False)\n",
    "tscv = TimeSeriesSplit(n_splits=3)"
   ]
  },
  {
   "cell_type": "code",
   "execution_count": 9,
   "metadata": {},
   "outputs": [
    {
     "name": "stdout",
     "output_type": "stream",
     "text": [
      "Fitting 3 folds for each of 5 candidates, totalling 15 fits\n"
     ]
    },
    {
     "name": "stderr",
     "output_type": "stream",
     "text": [
      "[Parallel(n_jobs=-1)]: Done  15 out of  15 | elapsed:    6.9s finished\n"
     ]
    },
    {
     "data": {
      "text/plain": [
       "Pipeline(memory=None,\n",
       "     steps=[('onehot', OneHotEncoder(categorical_features=[2, 3, 4], dtype=<class 'numpy.float64'>,\n",
       "       handle_unknown='error', n_values='auto', sparse=False)), ('regr_cv', GridSearchCV(cv=None, error_score='raise',\n",
       "       estimator=Ridge(alpha=1.0, copy_X=True, fit_intercept=False, max_iter=None,\n",
       "   ...*n_jobs', refit=True, return_train_score=True,\n",
       "       scoring='neg_mean_squared_error', verbose=2))])"
      ]
     },
     "execution_count": 9,
     "metadata": {},
     "output_type": "execute_result"
    }
   ],
   "source": [
    "param_grid = {'alpha': [ 1e-4, 1e-3, 1e-2, 0.1, 1.0]}\n",
    "regr_cv = GridSearchCV(estimator=regr,\n",
    "                            param_grid=param_grid,\n",
    "                            scoring='neg_mean_squared_error',\n",
    "                            iid=False,\n",
    "                            verbose=2,\n",
    "                            n_jobs=-1)\n",
    "regr_pipe = Pipeline([('onehot', onehot), ('regr_cv', regr_cv)])\n",
    "regr_pipe.fit(X, y=train['demand'])"
   ]
  },
  {
   "cell_type": "markdown",
   "metadata": {},
   "source": [
    "Save model to AML shared directory"
   ]
  },
  {
   "cell_type": "code",
   "execution_count": 10,
   "metadata": {
    "collapsed": true
   },
   "outputs": [],
   "source": [
    "with open(aml_dir + model_name + '.pkl', 'wb') as f:\n",
    "    pickle.dump(regr_pipe, f)"
   ]
  },
  {
   "cell_type": "markdown",
   "metadata": {},
   "source": [
    "### Cross validation results"
   ]
  },
  {
   "cell_type": "code",
   "execution_count": 12,
   "metadata": {},
   "outputs": [
    {
     "data": {
      "text/html": [
       "<div>\n",
       "<style>\n",
       "    .dataframe thead tr:only-child th {\n",
       "        text-align: right;\n",
       "    }\n",
       "\n",
       "    .dataframe thead th {\n",
       "        text-align: left;\n",
       "    }\n",
       "\n",
       "    .dataframe tbody tr th {\n",
       "        vertical-align: top;\n",
       "    }\n",
       "</style>\n",
       "<table border=\"1\" class=\"dataframe\">\n",
       "  <thead>\n",
       "    <tr style=\"text-align: right;\">\n",
       "      <th></th>\n",
       "      <th>mean_fit_time</th>\n",
       "      <th>mean_score_time</th>\n",
       "      <th>mean_test_score</th>\n",
       "      <th>mean_train_score</th>\n",
       "      <th>param_alpha</th>\n",
       "      <th>params</th>\n",
       "      <th>rank_test_score</th>\n",
       "      <th>split0_test_score</th>\n",
       "      <th>split0_train_score</th>\n",
       "      <th>split1_test_score</th>\n",
       "      <th>split1_train_score</th>\n",
       "      <th>split2_test_score</th>\n",
       "      <th>split2_train_score</th>\n",
       "      <th>std_fit_time</th>\n",
       "      <th>std_score_time</th>\n",
       "      <th>std_test_score</th>\n",
       "      <th>std_train_score</th>\n",
       "    </tr>\n",
       "  </thead>\n",
       "  <tbody>\n",
       "    <tr>\n",
       "      <th>4</th>\n",
       "      <td>0.094166</td>\n",
       "      <td>0.003834</td>\n",
       "      <td>-3768.417051</td>\n",
       "      <td>-3706.083209</td>\n",
       "      <td>1</td>\n",
       "      <td>{'alpha': 1.0}</td>\n",
       "      <td>1</td>\n",
       "      <td>-4083.317668</td>\n",
       "      <td>-3543.146328</td>\n",
       "      <td>-3759.650950</td>\n",
       "      <td>-3708.349953</td>\n",
       "      <td>-3462.282535</td>\n",
       "      <td>-3866.753345</td>\n",
       "      <td>0.011722</td>\n",
       "      <td>0.000472</td>\n",
       "      <td>253.612293</td>\n",
       "      <td>132.121734</td>\n",
       "    </tr>\n",
       "    <tr>\n",
       "      <th>3</th>\n",
       "      <td>0.171167</td>\n",
       "      <td>0.011501</td>\n",
       "      <td>-3768.671709</td>\n",
       "      <td>-3706.048894</td>\n",
       "      <td>0.1</td>\n",
       "      <td>{'alpha': 0.1}</td>\n",
       "      <td>2</td>\n",
       "      <td>-4082.758792</td>\n",
       "      <td>-3543.121862</td>\n",
       "      <td>-3760.114244</td>\n",
       "      <td>-3708.308567</td>\n",
       "      <td>-3463.142092</td>\n",
       "      <td>-3866.716253</td>\n",
       "      <td>0.020102</td>\n",
       "      <td>0.003534</td>\n",
       "      <td>253.029822</td>\n",
       "      <td>132.116519</td>\n",
       "    </tr>\n",
       "    <tr>\n",
       "      <th>2</th>\n",
       "      <td>0.169672</td>\n",
       "      <td>0.007000</td>\n",
       "      <td>-3768.702300</td>\n",
       "      <td>-3706.048524</td>\n",
       "      <td>0.01</td>\n",
       "      <td>{'alpha': 0.01}</td>\n",
       "      <td>3</td>\n",
       "      <td>-4082.703953</td>\n",
       "      <td>-3543.121604</td>\n",
       "      <td>-3760.169839</td>\n",
       "      <td>-3708.308115</td>\n",
       "      <td>-3463.233107</td>\n",
       "      <td>-3866.715852</td>\n",
       "      <td>0.037257</td>\n",
       "      <td>0.001081</td>\n",
       "      <td>252.969872</td>\n",
       "      <td>132.116460</td>\n",
       "    </tr>\n",
       "    <tr>\n",
       "      <th>1</th>\n",
       "      <td>0.222572</td>\n",
       "      <td>0.020668</td>\n",
       "      <td>-3768.705414</td>\n",
       "      <td>-3706.048520</td>\n",
       "      <td>0.001</td>\n",
       "      <td>{'alpha': 0.001}</td>\n",
       "      <td>4</td>\n",
       "      <td>-4082.698480</td>\n",
       "      <td>-3543.121601</td>\n",
       "      <td>-3760.175500</td>\n",
       "      <td>-3708.308111</td>\n",
       "      <td>-3463.242263</td>\n",
       "      <td>-3866.715848</td>\n",
       "      <td>0.077435</td>\n",
       "      <td>0.005390</td>\n",
       "      <td>252.963859</td>\n",
       "      <td>132.116460</td>\n",
       "    </tr>\n",
       "    <tr>\n",
       "      <th>0</th>\n",
       "      <td>0.151074</td>\n",
       "      <td>0.005830</td>\n",
       "      <td>-3768.705726</td>\n",
       "      <td>-3706.048520</td>\n",
       "      <td>0.0001</td>\n",
       "      <td>{'alpha': 0.0001}</td>\n",
       "      <td>5</td>\n",
       "      <td>-4082.697933</td>\n",
       "      <td>-3543.121601</td>\n",
       "      <td>-3760.176067</td>\n",
       "      <td>-3708.308111</td>\n",
       "      <td>-3463.243179</td>\n",
       "      <td>-3866.715848</td>\n",
       "      <td>0.063436</td>\n",
       "      <td>0.001837</td>\n",
       "      <td>252.963257</td>\n",
       "      <td>132.116460</td>\n",
       "    </tr>\n",
       "  </tbody>\n",
       "</table>\n",
       "</div>"
      ],
      "text/plain": [
       "   mean_fit_time  mean_score_time  mean_test_score  mean_train_score  \\\n",
       "4       0.094166         0.003834     -3768.417051      -3706.083209   \n",
       "3       0.171167         0.011501     -3768.671709      -3706.048894   \n",
       "2       0.169672         0.007000     -3768.702300      -3706.048524   \n",
       "1       0.222572         0.020668     -3768.705414      -3706.048520   \n",
       "0       0.151074         0.005830     -3768.705726      -3706.048520   \n",
       "\n",
       "  param_alpha             params  rank_test_score  split0_test_score  \\\n",
       "4           1     {'alpha': 1.0}                1       -4083.317668   \n",
       "3         0.1     {'alpha': 0.1}                2       -4082.758792   \n",
       "2        0.01    {'alpha': 0.01}                3       -4082.703953   \n",
       "1       0.001   {'alpha': 0.001}                4       -4082.698480   \n",
       "0      0.0001  {'alpha': 0.0001}                5       -4082.697933   \n",
       "\n",
       "   split0_train_score  split1_test_score  split1_train_score  \\\n",
       "4        -3543.146328       -3759.650950        -3708.349953   \n",
       "3        -3543.121862       -3760.114244        -3708.308567   \n",
       "2        -3543.121604       -3760.169839        -3708.308115   \n",
       "1        -3543.121601       -3760.175500        -3708.308111   \n",
       "0        -3543.121601       -3760.176067        -3708.308111   \n",
       "\n",
       "   split2_test_score  split2_train_score  std_fit_time  std_score_time  \\\n",
       "4       -3462.282535        -3866.753345      0.011722        0.000472   \n",
       "3       -3463.142092        -3866.716253      0.020102        0.003534   \n",
       "2       -3463.233107        -3866.715852      0.037257        0.001081   \n",
       "1       -3463.242263        -3866.715848      0.077435        0.005390   \n",
       "0       -3463.243179        -3866.715848      0.063436        0.001837   \n",
       "\n",
       "   std_test_score  std_train_score  \n",
       "4      253.612293       132.121734  \n",
       "3      253.029822       132.116519  \n",
       "2      252.969872       132.116460  \n",
       "1      252.963859       132.116460  \n",
       "0      252.963257       132.116460  "
      ]
     },
     "execution_count": 12,
     "metadata": {},
     "output_type": "execute_result"
    }
   ],
   "source": [
    "cv_results = pd.DataFrame(regr_pipe.named_steps['regr_cv'].cv_results_)\n",
    "cv_results.sort_values(by='rank_test_score')"
   ]
  },
  {
   "cell_type": "code",
   "execution_count": 15,
   "metadata": {},
   "outputs": [
    {
     "data": {
      "image/png": "[encoded data removed]",
      "text/plain": [
       "<matplotlib.figure.Figure at 0x185c78710f0>"
      ]
     },
     "metadata": {},
     "output_type": "display_data"
    }
   ],
   "source": [
    "plt.figure(figsize=(15, 5))\n",
    "plt.plot(cv_results['param_alpha'], cv_results['mean_test_score'], 'ro')\n",
    "plt.title('CV mean squared error')\n",
    "plt.show()"
   ]
  }
 ],
 "metadata": {
  "kernelspec": {
   "display_name": "TimeSeriesForecastingTutorial local",
   "language": "python",
   "name": "timeseriesforecastingtutorial_local"
  },
  "language_info": {
   "codemirror_mode": {
    "name": "ipython",
    "version": 3
   },
   "file_extension": ".py",
   "mimetype": "text/x-python",
   "name": "python",
   "nbconvert_exporter": "python",
   "pygments_lexer": "ipython3",
   "version": "3.5.2"
  }
 },
 "nbformat": 4,
 "nbformat_minor": 2
}
